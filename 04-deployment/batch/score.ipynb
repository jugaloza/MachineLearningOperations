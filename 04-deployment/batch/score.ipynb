{
 "cells": [
  {
   "cell_type": "code",
   "execution_count": 1,
   "metadata": {},
   "outputs": [],
   "source": [
    "import pandas as pd\n",
    "import pickle\n",
    "import mlflow\n",
    "\n",
    "from sklearn.ensemble import RandomForestRegressor\n",
    "from sklearn.metrics import mean_squared_error\n",
    "from sklearn.feature_extraction import DictVectorizer\n",
    "import uuid\n",
    "import os\n",
    "\n"
   ]
  },
  {
   "cell_type": "code",
   "execution_count": 2,
   "metadata": {},
   "outputs": [
    {
     "data": {
      "text/plain": [
       "<Experiment: artifact_location='./mlruns/1', experiment_id='1', lifecycle_stage='active', name='random-forest-experiment', tags={}>"
      ]
     },
     "execution_count": 2,
     "metadata": {},
     "output_type": "execute_result"
    }
   ],
   "source": [
    "year = 2021\n",
    "month = 3\n",
    "taxi_type='green'\n",
    "input_file = f'https://s3.amazonaws.com/nyc-tlc/trip+data/green_tripdata_{year:04d}-{month:02d}.parquet'\n",
    "output_file = f'output/{taxi_type}/tripdata_{year:04d}-{month:02d}.parquet'\n",
    "RUN_ID = os.getenv('RUN_ID','8cf38dfad1a24ceb9b58de03cc679dd9')\n",
    "mlflow.set_tracking_uri('http://127.0.0.1:5000')\n",
    "mlflow.set_experiment('random-forest-experiment')"
   ]
  },
  {
   "cell_type": "code",
   "execution_count": 3,
   "metadata": {},
   "outputs": [],
   "source": [
    "def generate_uuids(n):\n",
    "    #n = len(df)\n",
    "    ride_ids = []\n",
    "\n",
    "    for i in range(n):\n",
    "        ride_ids.append(str(uuid.uuid4()))  \n",
    "\n",
    "    return ride_ids\n",
    "\n",
    "\n",
    "\n",
    "def read_dataframe(path):\n",
    "    df = pd.read_parquet(path)\n",
    "    \n",
    "    df['duration'] = df.lpep_dropoff_datetime - df.lpep_pickup_datetime\n",
    "    \n",
    "    df.duration = df.duration.dt.total_seconds() / 60\n",
    "    \n",
    "    df = df[(df.duration > 1) & (df.duration < 60)]\n",
    "    \n",
    "    categorical = ['PULocationID','DOLocationID']\n",
    "    \n",
    "    df[categorical] = df[categorical].astype(str)\n",
    "    \n",
    "    return df\n",
    "\n",
    "def prepare_dictionaries(df: pd.DataFrame):\n",
    "    categorical = ['PULocationID', 'DOLocationID']\n",
    "    df[categorical] = df[categorical].astype(str)\n",
    "    \n",
    "    df['PU_DO'] = df['PULocationID'] + '_' + df['DOLocationID']\n",
    "\n",
    "    categorical = ['PU_DO']\n",
    "    numerical = ['trip_distance']\n",
    "    dicts = df[categorical + numerical].to_dict(orient='records')\n",
    "    #df = df[categorical + numerical]\n",
    "    return dicts\n"
   ]
  },
  {
   "cell_type": "code",
   "execution_count": 6,
   "metadata": {},
   "outputs": [],
   "source": [
    "def load_model(run_id):\n",
    "    logged_model = f'runs:/{run_id}/models'\n",
    "    model = mlflow.pyfunc.load_model(logged_model)\n",
    "    return model\n",
    "\n",
    "def apply_model(input_file,run_id,output_file):\n",
    "    df = read_dataframe(input_file)\n",
    "    dicts = prepare_dictionaries(df)\n",
    "    model = load_model(run_id)\n",
    "    with open('DictVectorizer.bin','rb') as f:\n",
    "        dv = pickle.load(f)\n",
    "        x = dv.transform(dicts)\n",
    "        #logged_model = 'runs:/8cf38dfad1a24ceb9b58de03cc679dd9/models'\n",
    "\n",
    "        y_pred = model.predict(x)\n",
    "\n",
    "        df_result = pd.DataFrame()\n",
    "\n",
    "        df_result['ride_id'] = generate_uuids(len(df))\n",
    "        df_result['lpep_pickup_datetime'] = df['lpep_pickup_datetime']\n",
    "        df_result['PULocationID'] = df['PULocationID']\n",
    "        df_result['DOLocationID'] = df['DOLocationID']\n",
    "        df_result['actual_duration'] = df['duration']\n",
    "        df_result['predicted_duration'] = y_pred\n",
    "        df_result['diff'] = df_result['actual_duration'] - df_result['predicted_duration']\n",
    "        df_result['model_version'] = run_id\n",
    "\n",
    "        df.to_parquet(output_file,index=False)\n",
    "\n",
    "\n",
    "\n"
   ]
  },
  {
   "cell_type": "code",
   "execution_count": 7,
   "metadata": {},
   "outputs": [],
   "source": [
    "apply_model(input_file,RUN_ID,output_file)"
   ]
  }
 ],
 "metadata": {
  "kernelspec": {
   "display_name": "Python 3.9.10 ('mlops-zoomcamp')",
   "language": "python",
   "name": "python3"
  },
  "language_info": {
   "codemirror_mode": {
    "name": "ipython",
    "version": 3
   },
   "file_extension": ".py",
   "mimetype": "text/x-python",
   "name": "python",
   "nbconvert_exporter": "python",
   "pygments_lexer": "ipython3",
   "version": "3.9.10"
  },
  "orig_nbformat": 4,
  "vscode": {
   "interpreter": {
    "hash": "0dba2b6ab181d24c97bbf7f223a6ab17a9b0caa2641969a8758d5ac1eae1247d"
   }
  }
 },
 "nbformat": 4,
 "nbformat_minor": 2
}
